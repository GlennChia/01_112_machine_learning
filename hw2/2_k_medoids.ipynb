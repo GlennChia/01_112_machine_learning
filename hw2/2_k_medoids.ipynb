{
 "cells": [
  {
   "cell_type": "markdown",
   "metadata": {},
   "source": [
    "# Question 2 "
   ]
  },
  {
   "cell_type": "markdown",
   "metadata": {},
   "source": [
    "- **Figure A** uses <i>l</i>$\\infty$ distance\n",
    "- **Figure B** uses Euclidean Distance\n",
    "- **Figure C** uses Manhattan Distance "
   ]
  },
  {
   "cell_type": "code",
   "execution_count": 9,
   "metadata": {},
   "outputs": [],
   "source": [
    "import math\n",
    "import numpy as np"
   ]
  },
  {
   "cell_type": "markdown",
   "metadata": {},
   "source": [
    "Euclidean distance is the l<sub>2</sub> norm of the vector difference between two points, i.e."
   ]
  },
  {
   "cell_type": "code",
   "execution_count": 10,
   "metadata": {},
   "outputs": [],
   "source": [
    "def get_euclidean_distance(point1, point2):\n",
    "    return math.sqrt(np.sum((point1 - point2) ** 2))"
   ]
  },
  {
   "cell_type": "markdown",
   "metadata": {},
   "source": [
    "The Manhattan distance is the l<sub>1</sub> norm of the vector difference between two points,"
   ]
  },
  {
   "cell_type": "code",
   "execution_count": 11,
   "metadata": {},
   "outputs": [],
   "source": [
    "def get_manhatten_distance(point1, point2):\n",
    "    return np.sum(np.absolute(point1 - point2))\n",
    "\n",
    "# print(get_manhatten_distance(points[0], points[3]))\n",
    "# print(get_manhatten_distance(points[0], points[1]))\n",
    "# print(get_manhatten_distance(points[3], points[2]))\n",
    "# print(get_manhatten_distance(points[3], points[1]))"
   ]
  },
  {
   "cell_type": "markdown",
   "metadata": {},
   "source": [
    "The l$\\infty$ distance is the maximum absolute element in the vector difference between two points, i.e.,"
   ]
  },
  {
   "cell_type": "code",
   "execution_count": 12,
   "metadata": {},
   "outputs": [],
   "source": [
    "def get_infinity_distance(point1, point2):\n",
    "    result = abs(np.sum([point1 - point2], axis=0))\n",
    "    #print(result)\n",
    "    return np.amax(result) \n",
    "# print(get_infinity_distance(points[0], points[3]))\n",
    "# print(get_infinity_distance(points[1], points[1]))\n",
    "# print(get_infinity_distance(points[3], points[2]))\n",
    "# print(get_infinity_distance(points[3], points[1]))"
   ]
  },
  {
   "cell_type": "markdown",
   "metadata": {},
   "source": [
    "Define the k medoids algorithm"
   ]
  },
  {
   "cell_type": "code",
   "execution_count": 13,
   "metadata": {},
   "outputs": [],
   "source": [
    "exemplar_number = 3\n",
    "points = [[0, -6], [-5, 2], [4, 4], [0, 0]]\n",
    "points = np.array(points)\n",
    "def k_medoids(exemplar_number, points, distance_metric):\n",
    "    exemplars = points[: exemplar_number]\n",
    "    total_loss = math.inf\n",
    "    switcher = { 'e': get_euclidean_distance, 'm': get_manhatten_distance, 'i': get_infinity_distance }\n",
    "    distance_metric = switcher.get(distance_metric, lambda: \"Invalid mode\")\n",
    "    loss_change = True\n",
    "    counter = 0\n",
    "    while loss_change:\n",
    "        print('iteration {}'.format(counter))\n",
    "        counter += 1\n",
    "        points_assignment = [[], [], []]\n",
    "        new_exemplars = exemplars\n",
    "        new_loss = 0\n",
    "        # Find the clusters\n",
    "        for point in points:\n",
    "            individual_loss = math.inf\n",
    "            # Calculate the distance to the examplars and assign\n",
    "            for index_exemplar, exemplar in enumerate(exemplars):\n",
    "                distance = distance_metric(point, exemplar)\n",
    "                if distance < individual_loss:\n",
    "                    individual_loss = distance\n",
    "                    assignment = index_exemplar\n",
    "            points_assignment[assignment].append(point)\n",
    "        # Choose the examplar and compute the loss\n",
    "        for index_points, points_assigned in enumerate(points_assignment):\n",
    "            if (len(points_assigned) > 1):\n",
    "                group_loss = math.inf\n",
    "                for index_point, point in enumerate(points_assigned):\n",
    "                    group_loss_new = 0\n",
    "                    # Set a reference point for the exemplar\n",
    "                    for index_point2, point2 in enumerate(points_assigned):\n",
    "                        group_loss_new += distance_metric(point, point2)\n",
    "                    if group_loss_new < group_loss:\n",
    "                        group_loss = group_loss_new\n",
    "                        new_exemplar_index = index_point\n",
    "                new_exemplars[index_points] = points_assigned[new_exemplar_index]\n",
    "                new_loss += group_loss\n",
    "            # Here we assume that we don't have an exemplar with nothing\n",
    "            else:\n",
    "                new_exemplars[index_points] = points_assigned[0]\n",
    "        exemplars = new_exemplars\n",
    "        print(new_loss)\n",
    "        # Check the loss\n",
    "        if new_loss < total_loss:\n",
    "            total_loss = new_loss\n",
    "        else:\n",
    "            loss_change = False\n",
    "    return points_assignment"
   ]
  },
  {
   "cell_type": "markdown",
   "metadata": {},
   "source": [
    "## 2(a) Euclidean distance"
   ]
  },
  {
   "cell_type": "code",
   "execution_count": 14,
   "metadata": {},
   "outputs": [
    {
     "name": "stdout",
     "output_type": "stream",
     "text": [
      "iteration 0\n",
      "5.385164807134504\n",
      "iteration 1\n",
      "5.385164807134504\n",
      "[[array([ 0, -6])], [array([-5,  2]), array([0, 0])], [array([4, 4])]]\n"
     ]
    }
   ],
   "source": [
    "# TEST WITH EUCLIDEAN DISTANCE\n",
    "print(k_medoids(exemplar_number, points, 'e'))"
   ]
  },
  {
   "cell_type": "markdown",
   "metadata": {},
   "source": [
    "### Euclidean Distance is for Figure B"
   ]
  },
  {
   "cell_type": "markdown",
   "metadata": {},
   "source": [
    "## 2(b) MANHATTEN distance"
   ]
  },
  {
   "cell_type": "code",
   "execution_count": 15,
   "metadata": {},
   "outputs": [
    {
     "name": "stdout",
     "output_type": "stream",
     "text": [
      "iteration 0\n",
      "6\n",
      "iteration 1\n",
      "6\n",
      "[[array([ 0, -6]), array([0, 0])], [array([-5,  2])], [array([4, 4])]]\n"
     ]
    }
   ],
   "source": [
    "# TEST WITH MANHATTEN DISTANCE\n",
    "print(k_medoids(exemplar_number, points, 'm'))"
   ]
  },
  {
   "cell_type": "markdown",
   "metadata": {},
   "source": [
    "### Manhatten Distance is for Figure C"
   ]
  },
  {
   "cell_type": "markdown",
   "metadata": {},
   "source": [
    "## 2(c) <i>l</i>$\\infty$ distance"
   ]
  },
  {
   "cell_type": "code",
   "execution_count": 16,
   "metadata": {},
   "outputs": [
    {
     "name": "stdout",
     "output_type": "stream",
     "text": [
      "iteration 0\n",
      "4\n",
      "iteration 1\n",
      "4\n",
      "[[array([ 0, -6])], [array([-5,  2])], [array([4, 4]), array([0, 0])]]\n"
     ]
    }
   ],
   "source": [
    "print(k_medoids(exemplar_number, points, 'i'))"
   ]
  },
  {
   "cell_type": "markdown",
   "metadata": {},
   "source": [
    "### <i>l</i>$\\infty$ distance is for Figure A"
   ]
  }
 ],
 "metadata": {
  "kernelspec": {
   "display_name": "Python 3",
   "language": "python",
   "name": "python3"
  },
  "language_info": {
   "codemirror_mode": {
    "name": "ipython",
    "version": 3
   },
   "file_extension": ".py",
   "mimetype": "text/x-python",
   "name": "python",
   "nbconvert_exporter": "python",
   "pygments_lexer": "ipython3",
   "version": "3.7.3"
  }
 },
 "nbformat": 4,
 "nbformat_minor": 2
}
