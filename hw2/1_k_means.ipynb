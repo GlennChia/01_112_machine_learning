{
 "cells": [
  {
   "cell_type": "markdown",
   "metadata": {},
   "source": [
    "# Glenn Chia \n",
    "# 1003118\n",
    "# 01.112 Machine Learning Homework 2 Question 1"
   ]
  },
  {
   "cell_type": "markdown",
   "metadata": {},
   "source": [
    "# 1. K-Means [30 points]"
   ]
  },
  {
   "cell_type": "code",
   "execution_count": 1,
   "metadata": {},
   "outputs": [],
   "source": [
    "import numpy as np\n",
    "import math\n",
    "import matplotlib.pyplot as plt"
   ]
  },
  {
   "cell_type": "code",
   "execution_count": 2,
   "metadata": {},
   "outputs": [],
   "source": [
    "hw2_qn1_path = './HW2_data/1/hw2-image.txt'\n",
    "def read_data(file_path):\n",
    "    with open(file_path, 'r') as file_data:\n",
    "        coordintates = [np.array([int(x) for x in line.rstrip('\\n').split(' ')]) for line in file_data]\n",
    "    return coordintates\n",
    "coordinates = read_data(hw2_qn1_path)"
   ]
  },
  {
   "cell_type": "code",
   "execution_count": 3,
   "metadata": {},
   "outputs": [
    {
     "data": {
      "text/plain": [
       "388"
      ]
     },
     "execution_count": 3,
     "metadata": {},
     "output_type": "execute_result"
    }
   ],
   "source": [
    "# input: 2 arrays. Each array is [x, y, z]\n",
    "# output: Squared Euclidean distance\n",
    "def compute_individual_loss(point_one, point_two):\n",
    "    return np.sum((point_one - point_two) ** 2)\n",
    "compute_individual_loss(coordinates[0], coordinates[1])"
   ]
  },
  {
   "cell_type": "code",
   "execution_count": 4,
   "metadata": {},
   "outputs": [
    {
     "name": "stdout",
     "output_type": "stream",
     "text": [
      "[[255 255 255]\n",
      " [255   0   0]\n",
      " [128   0   0]\n",
      " [  0 255   0]\n",
      " [  0 128   0]\n",
      " [  0   0 255]\n",
      " [  0   0 128]\n",
      " [  0   0   0]]\n"
     ]
    }
   ],
   "source": [
    "initial_centroids = [[255, 255, 255], [255, 0, 0], [128, 0, 0], [0, 255, 0], [0, 128, 0], [0, 0, 255], [0, 0, 128], [0, 0, 0]]\n",
    "initial_centroids = np.array([np.array(centroid) for centroid in initial_centroids])\n",
    "print(initial_centroids)"
   ]
  },
  {
   "cell_type": "code",
   "execution_count": 5,
   "metadata": {},
   "outputs": [
    {
     "name": "stdout",
     "output_type": "stream",
     "text": [
      "iteration: 1\n",
      "340316684.38417476\n",
      "iteration: 2\n",
      "183025425.3424653\n",
      "iteration: 3\n",
      "170742827.06460875\n",
      "iteration: 4\n",
      "156809662.22456604\n",
      "iteration: 5\n",
      "134268985.15269423\n",
      "iteration: 6\n",
      "130100346.06848319\n",
      "iteration: 7\n",
      "129763194.71800756\n",
      "iteration: 8\n",
      "129668514.31460547\n",
      "iteration: 9\n",
      "129617277.21963887\n",
      "iteration: 10\n",
      "129586574.62849163\n",
      "iteration: 11\n",
      "129569365.88814013\n",
      "iteration: 12\n",
      "129548951.04084305\n",
      "iteration: 13\n",
      "129535553.41981779\n",
      "iteration: 14\n",
      "129518973.49273516\n",
      "iteration: 15\n",
      "129504002.49864988\n",
      "iteration: 16\n",
      "129488225.13710675\n",
      "iteration: 17\n",
      "129473579.02860008\n",
      "iteration: 18\n",
      "129454202.88018076\n",
      "iteration: 19\n",
      "129432885.28915738\n",
      "iteration: 20\n",
      "129397712.73004597\n",
      "iteration: 21\n",
      "129328051.26664047\n",
      "iteration: 22\n",
      "129140633.62422693\n",
      "iteration: 23\n",
      "128566727.58414571\n",
      "iteration: 24\n",
      "126462691.89793825\n",
      "iteration: 25\n",
      "122853348.67253365\n",
      "iteration: 26\n",
      "120732801.6994679\n",
      "iteration: 27\n",
      "119474552.32317877\n",
      "iteration: 28\n",
      "118685954.53044546\n",
      "iteration: 29\n",
      "118237837.67500521\n",
      "iteration: 30\n",
      "118046085.26928467\n",
      "iteration: 31\n",
      "117967258.08728965\n",
      "iteration: 32\n",
      "117929886.17639709\n",
      "iteration: 33\n",
      "117910502.23358914\n",
      "iteration: 34\n",
      "117897501.04311705\n",
      "iteration: 35\n",
      "117890457.2540692\n",
      "iteration: 36\n",
      "117888153.35576329\n",
      "iteration: 37\n",
      "117887157.94827968\n",
      "iteration: 38\n",
      "117886773.0095239\n",
      "iteration: 39\n",
      "117886510.65613666\n",
      "iteration: 40\n",
      "117886300.03078881\n",
      "iteration: 41\n",
      "117886152.617435\n",
      "iteration: 42\n",
      "117886107.09243268\n",
      "iteration: 43\n",
      "117886089.03664346\n",
      "iteration: 44\n",
      "117886075.01639695\n",
      "iteration: 45\n",
      "117886069.11333807\n",
      "iteration: 46\n",
      "117886062.40297253\n",
      "iteration: 47\n",
      "117886061.63964276\n",
      "iteration: 48\n",
      "117886061.63964276\n"
     ]
    }
   ],
   "source": [
    "def k_means_clustering(coordinates, cluster_number, initial_centroids):\n",
    "    change_status = True\n",
    "    old_centroids = initial_centroids\n",
    "    total_loss = math.inf\n",
    "    counter = 1\n",
    "    loss_history = []\n",
    "    while change_status: \n",
    "        print('iteration: {}'.format(counter))\n",
    "        counter += 1\n",
    "        cluster_assignment = [[], [], [], [], [], [], [], []]\n",
    "        new_centroids = []\n",
    "        new_loss = 0\n",
    "        # Cluster the points first\n",
    "        for index_coordinate, coordinate in enumerate(coordinates):\n",
    "            reference_individual_loss = math.inf # Since 195075 id the largest possible squared euclidean distance\n",
    "            for index_centroid, centroid in enumerate(old_centroids):\n",
    "                # Check if the centroid is an integer ()\n",
    "                if str(type(centroid)) == \"<class 'numpy.ndarray'>\":\n",
    "                    new_individual_loss = compute_individual_loss(coordinate, centroid)\n",
    "                    if new_individual_loss < reference_individual_loss:\n",
    "                        assignment = index_centroid\n",
    "                        reference_individual_loss = new_individual_loss\n",
    "            cluster_assignment[assignment].append(coordinate)\n",
    "        # Recalculate the centroid based on each cluster\n",
    "        for index_cluster, value_cluster in enumerate(cluster_assignment):\n",
    "            if(len(value_cluster) == 0):\n",
    "                new_centroids.append(0)\n",
    "            else:\n",
    "                new_centroid = (np.sum(value_cluster, axis=0)/len(value_cluster)) #.astype(int)\n",
    "                new_centroids.append(new_centroid)\n",
    "                for index_coordinate, coordinate in enumerate(value_cluster):\n",
    "                    new_loss += compute_individual_loss(coordinate, new_centroid)\n",
    "        old_centroids = new_centroids\n",
    "        # Check for loss\n",
    "        print(new_loss)\n",
    "        if new_loss < total_loss:\n",
    "            total_loss = new_loss\n",
    "            loss_history.append(new_loss)\n",
    "        else:\n",
    "            change_status = False\n",
    "    return cluster_assignment, new_centroids, loss_history\n",
    "cluster_assignment, new_centroids, loss_history = k_means_clustering(coordinates, 8, initial_centroids)"
   ]
  },
  {
   "cell_type": "markdown",
   "metadata": {},
   "source": [
    "## 1(a) How many clusters there are in the end. (A cluster can “disappear” in one iteration of the algorithm if no vectors are closest to its centroid.)"
   ]
  },
  {
   "cell_type": "code",
   "execution_count": 10,
   "metadata": {},
   "outputs": [
    {
     "name": "stdout",
     "output_type": "stream",
     "text": [
      "The number of clusters at the end is 6\n"
     ]
    }
   ],
   "source": [
    "def find_cluster_number(clusters):\n",
    "    counter = 0\n",
    "    for cluster in clusters:\n",
    "        if str(type(cluster)) == \"<class 'numpy.ndarray'>\":\n",
    "            counter += 1\n",
    "    return counter\n",
    "print('The number of clusters at the end is {}'.format(find_cluster_number(new_centroids)))"
   ]
  },
  {
   "cell_type": "markdown",
   "metadata": {},
   "source": [
    "## 1(b) The final centroids of each cluster."
   ]
  },
  {
   "cell_type": "code",
   "execution_count": 15,
   "metadata": {},
   "outputs": [
    {
     "name": "stdout",
     "output_type": "stream",
     "text": [
      "Cluster 0 has centroid [241.2296146  238.62515213 233.86288032]\n",
      "Cluster 1 has centroid [194.41158657 136.33311389  90.94364714]\n",
      "Cluster 2 has centroid [136.2655563   61.08973066  10.10385457]\n",
      "Cluster 3 has no centroid\n",
      "Cluster 4 has centroid [157.29173273  97.59397508  51.43329558]\n",
      "Cluster 5 has no centroid\n",
      "Cluster 6 has centroid [78.92743714 37.10828688 13.07070482]\n",
      "Cluster 7 has centroid [25.97800232 23.23575423 23.60599063]\n",
      "True\n"
     ]
    }
   ],
   "source": [
    "def find_final_centroids(centroids):\n",
    "    counter = 0 \n",
    "    for centroid in centroids:\n",
    "        if str(type(centroid)) == \"<class 'numpy.ndarray'>\":\n",
    "            print('Cluster {} has centroid {}'.format(counter, centroid))\n",
    "        else:\n",
    "            print('Cluster {} has no centroid'.format(counter))\n",
    "        counter += 1\n",
    "    return True\n",
    "print(find_final_centroids(new_centroids))"
   ]
  },
  {
   "cell_type": "markdown",
   "metadata": {},
   "source": [
    "## 1(c) The number of pixels associated to each cluster"
   ]
  },
  {
   "cell_type": "code",
   "execution_count": 8,
   "metadata": {},
   "outputs": [
    {
     "name": "stdout",
     "output_type": "stream",
     "text": [
      "Cluster 0, [241.2296146  238.62515213 233.86288032] has 4930 pixels\n",
      "Cluster 1, [194.41158657 136.33311389  90.94364714] has 15190 pixels\n",
      "Cluster 2, [136.2655563   61.08973066  10.10385457] has 52535 pixels\n",
      "Cluster 3, 0 has 0 pixels\n",
      "Cluster 4, [157.29173273  97.59397508  51.43329558] has 22075 pixels\n",
      "Cluster 5, 0 has 0 pixels\n",
      "Cluster 6, [78.92743714 37.10828688 13.07070482] has 40365 pixels\n",
      "Cluster 7, [25.97800232 23.23575423 23.60599063] has 74917 pixels\n",
      "The total number of pixels is 210012\n"
     ]
    },
    {
     "data": {
      "text/plain": [
       "True"
      ]
     },
     "execution_count": 8,
     "metadata": {},
     "output_type": "execute_result"
    }
   ],
   "source": [
    "def pixels_to_cluster(clusters, centroids):\n",
    "    pixel_count = 0\n",
    "    for index_cluster, value_cluster in enumerate(clusters):\n",
    "        print('Cluster {}, {} has {} pixels'.format(index_cluster, centroids[index_cluster], len(value_cluster)))\n",
    "        pixel_count += len(value_cluster)\n",
    "    print('The total number of pixels is {}'.format(pixel_count))\n",
    "    return True\n",
    "pixels_to_cluster(cluster_assignment, new_centroids)"
   ]
  },
  {
   "cell_type": "markdown",
   "metadata": {},
   "source": [
    "## 1(d) Plot the squared Euclidean distance from each pixel to the nearest centroid after every iteration of the algorithm."
   ]
  },
  {
   "cell_type": "code",
   "execution_count": 9,
   "metadata": {},
   "outputs": [
    {
     "data": {
      "image/png": "[encoded data removed]",
      "text/plain": [
       "<Figure size 1080x864 with 1 Axes>"
      ]
     },
     "metadata": {
      "needs_background": "light"
     },
     "output_type": "display_data"
    }
   ],
   "source": [
    "plt.figure(figsize=(15,12))\n",
    "plt.scatter(x=[i for i in range(len(loss_history))], y=loss_history, color='b')\n",
    "plt.xlabel('Iteration')\n",
    "plt.ylabel('Loss')\n",
    "plt.title('Graph of loss against iteration')\n",
    "plt.show()"
   ]
  },
  {
   "cell_type": "markdown",
   "metadata": {},
   "source": [
    "## Visualize your result by replacing each pixel with the centroid to which it is closest, and displaying the resulting image."
   ]
  },
  {
   "cell_type": "code",
   "execution_count": 16,
   "metadata": {},
   "outputs": [],
   "source": [
    "from PIL import Image"
   ]
  },
  {
   "cell_type": "code",
   "execution_count": 32,
   "metadata": {},
   "outputs": [],
   "source": [
    "def display_image(coordinates, centroids):\n",
    "    #im = Image.new(\"RGB\", (516,407))\n",
    "    im = Image.new(\"RGB\", (407, 516))\n",
    "    pixels = []\n",
    "    filtered_centroids = []\n",
    "    data = []\n",
    "    for centroid in centroids:\n",
    "        if str(type(centroid)) == \"<class 'numpy.ndarray'>\":\n",
    "            filtered_centroids.append(centroid.astype(int))\n",
    "    for index_coordinate, coordinate in enumerate(coordinates):\n",
    "            reference_individual_loss = math.inf # Since 195075 id the largest possible squared euclidean distance\n",
    "            for index_centroid, centroid in enumerate(filtered_centroids):\n",
    "                if str(type(centroid)) == \"<class 'numpy.ndarray'>\":\n",
    "                    new_individual_loss = compute_individual_loss(coordinate, centroid)\n",
    "                    if new_individual_loss < reference_individual_loss:\n",
    "                        reference_individual_loss = new_individual_loss\n",
    "                        reference_centroid = tuple(centroid.tolist())\n",
    "            data.append(reference_centroid)\n",
    "    im.putdata(data)\n",
    "    im.save(\"clustered.png\")\n",
    "display_image(coordinates, new_centroids)"
   ]
  },
  {
   "cell_type": "markdown",
   "metadata": {},
   "source": [
    "![](clustered.png)"
   ]
  },
  {
   "cell_type": "code",
   "execution_count": null,
   "metadata": {},
   "outputs": [],
   "source": []
  }
 ],
 "metadata": {
  "kernelspec": {
   "display_name": "Python 3",
   "language": "python",
   "name": "python3"
  },
  "language_info": {
   "codemirror_mode": {
    "name": "ipython",
    "version": 3
   },
   "file_extension": ".py",
   "mimetype": "text/x-python",
   "name": "python",
   "nbconvert_exporter": "python",
   "pygments_lexer": "ipython3",
   "version": "3.7.3"
  }
 },
 "nbformat": 4,
 "nbformat_minor": 2
}
