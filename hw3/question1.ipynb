{
 "cells": [
  {
   "cell_type": "markdown",
   "metadata": {},
   "source": [
    "# Question 1 Run LIBSVM to classify promoters with different kernels (0-3), using default values for all other parameters. What is your test accuracy for each kernel choice?\n",
    "\n",
    "## Link to the python version\n",
    "https://github.com/cjlin1/libsvm/tree/master/python\n",
    "\n",
    "## kernel types available\n",
    "-t kernel_type : set type of kernel function (default 2)\n",
    "- \t0 -- linear: u'*v\n",
    "- \t1 -- polynomial: (gamma*u'*v + coef0)^degree\n",
    "-\t2 -- radial basis function: exp(-gamma*|u-v|^2)\n",
    "-\t3 -- sigmoid: tanh(gamma*u'*v + coef0)\n",
    "-\t4 -- precomputed kernel (kernel values in training_set_file)"
   ]
  },
  {
   "cell_type": "code",
   "execution_count": 3,
   "metadata": {},
   "outputs": [],
   "source": [
    "from svmutil import *"
   ]
  },
  {
   "cell_type": "code",
   "execution_count": 16,
   "metadata": {},
   "outputs": [],
   "source": [
    "# Read in the data\n",
    "trainY, trainX = svm_read_problem('HW3_data/1/promoters/training.txt')\n",
    "testY, testX = svm_read_problem('HW3_data/1/promoters/test.txt')"
   ]
  },
  {
   "cell_type": "code",
   "execution_count": 17,
   "metadata": {},
   "outputs": [
    {
     "name": "stdout",
     "output_type": "stream",
     "text": [
      "This is kernel 0\n",
      "Accuracy = 84.375% (27/32) (classification)\n",
      "Kernel 0, inear u'*v has an accuracy of 84.375%\n",
      "\n",
      "This is kernel 1\n",
      "Accuracy = 81.25% (26/32) (classification)\n",
      "Kernel 1, polynomial: (gamma*u'*v + coef0)^degree has an accuracy of 81.25%\n",
      "\n",
      "This is kernel 2\n",
      "Accuracy = 90.625% (29/32) (classification)\n",
      "Kernel 2, radial basis function: exp(-gamma*|u-v|^2) has an accuracy of 90.625%\n",
      "\n",
      "This is kernel 3\n",
      "Accuracy = 43.75% (14/32) (classification)\n",
      "Kernel 3, sigmoid: tanh(gamma*u'*v + coef0) has an accuracy of 43.75%\n",
      "\n"
     ]
    }
   ],
   "source": [
    "# Test for different kernels\n",
    "kernel_mapper = {\n",
    "    0: \"inear u'*v\",\n",
    "    1: \"polynomial: (gamma*u'*v + coef0)^degree\",\n",
    "    2: \"radial basis function: exp(-gamma*|u-v|^2)\",\n",
    "    3: \"sigmoid: tanh(gamma*u'*v + coef0)\"\n",
    "}\n",
    "\n",
    "for i in range(4):\n",
    "    m = svm_train(trainY[:200], trainX[:200], '-t {}'.format(i))\n",
    "    print('This is kernel {}'.format(i))\n",
    "    p_label, p_acc, p_val = svm_predict(testY, testX, m)\n",
    "    print('Kernel {}, {} has an accuracy of {}%\\n'.format(i, kernel_mapper[i], p_acc[0]))"
   ]
  }
 ],
 "metadata": {
  "kernelspec": {
   "display_name": "Python 3",
   "language": "python",
   "name": "python3"
  },
  "language_info": {
   "codemirror_mode": {
    "name": "ipython",
    "version": 3
   },
   "file_extension": ".py",
   "mimetype": "text/x-python",
   "name": "python",
   "nbconvert_exporter": "python",
   "pygments_lexer": "ipython3",
   "version": "3.7.3"
  }
 },
 "nbformat": 4,
 "nbformat_minor": 2
}
