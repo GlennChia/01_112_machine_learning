{
 "cells": [
  {
   "cell_type": "markdown",
   "metadata": {},
   "source": [
    "# 3(a) [10 points] Write a function ridge regression(tX; tY; l) that takes the training features, training responses and regularizing parameter $\\lambda$, and outputs the exact solution $\\theta$ for ridge regression. Report the resulting value of $\\theta$ for $\\lambda$ = 0.15."
   ]
  },
  {
   "cell_type": "code",
   "execution_count": null,
   "metadata": {},
   "outputs": [],
   "source": []
  },
  {
   "cell_type": "markdown",
   "metadata": {},
   "source": [
    "# 3(b) [10 points] Use the following code to plot graphs of the validation loss and training loss as $\\lambda$ varies on logarithmic scale from $\\lambda$ = 10<sup>5</sup> to $\\lambda$ = 10<sup>0</sup>. Write down the value of $\\lambda$ that minimizes the validation loss."
   ]
  }
 ],
 "metadata": {
  "kernelspec": {
   "display_name": "Python 3",
   "language": "python",
   "name": "python3"
  },
  "language_info": {
   "codemirror_mode": {
    "name": "ipython",
    "version": 3
   },
   "file_extension": ".py",
   "mimetype": "text/x-python",
   "name": "python",
   "nbconvert_exporter": "python",
   "pygments_lexer": "ipython3",
   "version": "3.7.3"
  }
 },
 "nbformat": 4,
 "nbformat_minor": 2
}
