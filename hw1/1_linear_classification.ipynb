{
 "cells": [
  {
   "cell_type": "markdown",
   "metadata": {},
   "source": [
    "# 1. Linear Classification\n",
    "## How to run the code\n",
    "- This is a Jupyter Notebook and it assumes that pandas and numpy are installed\n"
   ]
  },
  {
   "cell_type": "code",
   "execution_count": 1,
   "metadata": {},
   "outputs": [],
   "source": [
    "import pandas as pd\n",
    "import numpy as np"
   ]
  },
  {
   "cell_type": "code",
   "execution_count": 2,
   "metadata": {},
   "outputs": [],
   "source": [
    "# first value is the symmetry, the second is the average intensity, and the third is the label.\n",
    "train_df = pd.read_csv('data/1/train_1_5.csv', header=None)\n",
    "test_df = pd.read_csv('data/1/test_1_5.csv', header=None)"
   ]
  },
  {
   "cell_type": "code",
   "execution_count": 7,
   "metadata": {},
   "outputs": [],
   "source": [
    "def perceptron_update(df, iterations):\n",
    "    # Initialize the weight\n",
    "    weight_array = []\n",
    "    offset_array = []\n",
    "    weight_details = {}\n",
    "    weight = np.array([0, 0], dtype=float)\n",
    "    weight_array.append(weight)\n",
    "    offset = 0.0\n",
    "    offset_array.append(offset)\n",
    "    for i in range(iterations):\n",
    "        # print('This is iteration {}'.format(i))\n",
    "        for rows in df.iterrows():\n",
    "            #print('This is row {}'.format(rows[0]))\n",
    "            x = np.array([rows[1][0], rows[1][1]])\n",
    "            y = rows[1][2]\n",
    "            weight_dot_x = np.inner(weight, x)\n",
    "            condition = y * (weight_dot_x + offset)\n",
    "            if condition <= 0:\n",
    "                weight = weight + y * x\n",
    "                weight_array.append(weight)\n",
    "                offset += y\n",
    "                offset_array.append(offset)\n",
    "    weight_details['weight'] = weight\n",
    "    weight_details['weight_array'] = weight_array\n",
    "    weight_details['offset'] = offset\n",
    "    weight_details['offset_array'] = offset_array\n",
    "    return weight_details"
   ]
  },
  {
   "cell_type": "code",
   "execution_count": 8,
   "metadata": {},
   "outputs": [],
   "source": [
    "def predict_test(df, weight_details):\n",
    "    weight = weight_details['weight']\n",
    "    print('The weight is {}'.format(weight))\n",
    "    offset = weight_details['offset']\n",
    "    print('The offset is {}'.format(offset))\n",
    "    predict_list = []\n",
    "    total_tests = len(df)\n",
    "    # print(total_tests)\n",
    "    correct = 0\n",
    "    for rows in df.iterrows():\n",
    "        label = rows[1][2]\n",
    "        x = np.array([rows[1][0], rows[1][1]])\n",
    "        predict_label = np.inner(weight, x) + offset\n",
    "        if predict_label > 0:\n",
    "            predict_label = 1.0\n",
    "        elif predict_label < 0:\n",
    "            predict_label = -1.0\n",
    "        else:\n",
    "            print('ZOMG')\n",
    "        predict_list.append(predict_label)\n",
    "        if predict_label == label:\n",
    "            correct += 1\n",
    "    accuracy_score = correct/total_tests\n",
    "    return accuracy_score"
   ]
  },
  {
   "cell_type": "markdown",
   "metadata": {},
   "source": [
    "## 1(a) [5 points] Run the perceptron algorithm for 5 iterations (i.e., traversing the training set 5 times), report the accuracy on the test set. "
   ]
  },
  {
   "cell_type": "code",
   "execution_count": 9,
   "metadata": {},
   "outputs": [
    {
     "name": "stdout",
     "output_type": "stream",
     "text": [
      "The weight is [-2.05895878 -8.83521606]\n",
      "The offset is 1.0\n",
      "The accuracy for question 1(a) - 5 iterations is: 0.9670658682634731\n"
     ]
    }
   ],
   "source": [
    "question_a_weight = perceptron_update(train_df, 5)\n",
    "score_a = predict_test(test_df, question_a_weight)\n",
    "print('The accuracy for question 1(a) - 5 iterations is: {}'.format(score_a))"
   ]
  },
  {
   "cell_type": "markdown",
   "metadata": {},
   "source": [
    "## 1(b) [5 points] Run the perceptron algorithm for 10 iterations, report the accuracy on the test set."
   ]
  },
  {
   "cell_type": "code",
   "execution_count": null,
   "metadata": {},
   "outputs": [],
   "source": []
  }
 ],
 "metadata": {
  "kernelspec": {
   "display_name": "Python 3",
   "language": "python",
   "name": "python3"
  },
  "language_info": {
   "codemirror_mode": {
    "name": "ipython",
    "version": 3
   },
   "file_extension": ".py",
   "mimetype": "text/x-python",
   "name": "python",
   "nbconvert_exporter": "python",
   "pygments_lexer": "ipython3",
   "version": "3.7.3"
  }
 },
 "nbformat": 4,
 "nbformat_minor": 2
}
